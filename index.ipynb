{
 "cells": [
  {
   "cell_type": "code",
   "execution_count": null,
   "metadata": {},
   "outputs": [],
   "source": [
    "#hide\n",
    "from sc2trainingg.core import *"
   ]
  },
  {
   "cell_type": "markdown",
   "metadata": {},
   "source": [
    "# sc2trainingg\n",
    "\n",
    "> Package created to prototype and design a challenge recommender system for StarCraf2."
   ]
  },
  {
   "cell_type": "markdown",
   "metadata": {},
   "source": [
    "sc2trainingg is a python package created as part of SC2 Training Grounds' prototyping and design process. As such, the package has two main purposes. On the one hand, it has been created to facilitate exploratory programming (Beth Kery & Myers, 2017; Howard & Gugger, 2020, pp. 21–23). In other words, the package enables the exploration of existing tools as resources for the construction of the functionality described in SC2 Training Grounds' design brief (Appendix A). On the other hand, the package supports the iterative process of the design described in this project's dissertation document (Dissertation Document p52-53). In this regard, this package helps me articulate the project's user model, which I develop in the User Experience Design document (Appendix B), and a realistic computer model. Furthermore, it responds directly to my design framework's second and fourth stages (Dissertation Document Chap 3.3 and 3.5), allowing me to propose ideas based on the existing tools' features and considering its limitations."
   ]
  },
  {
   "cell_type": "markdown",
   "metadata": {},
   "source": [
    "## Install"
   ]
  },
  {
   "cell_type": "markdown",
   "metadata": {},
   "source": [
    "`pip install sc2trainingg`"
   ]
  },
  {
   "cell_type": "markdown",
   "metadata": {},
   "source": [
    "## How to use"
   ]
  },
  {
   "cell_type": "markdown",
   "metadata": {},
   "source": [
    "Fill me in please! Don't forget code examples:"
   ]
  },
  {
   "cell_type": "code",
   "execution_count": null,
   "metadata": {},
   "outputs": [
    {
     "data": {
      "text/plain": [
       "'Hello Hernan'"
      ]
     },
     "execution_count": null,
     "metadata": {},
     "output_type": "execute_result"
    }
   ],
   "source": [
    "say_hello('Hernan')"
   ]
  },
  {
   "cell_type": "code",
   "execution_count": null,
   "metadata": {},
   "outputs": [],
   "source": []
  }
 ],
 "metadata": {
  "kernelspec": {
   "display_name": "Python 3",
   "language": "python",
   "name": "python3"
  }
 },
 "nbformat": 4,
 "nbformat_minor": 2
}
