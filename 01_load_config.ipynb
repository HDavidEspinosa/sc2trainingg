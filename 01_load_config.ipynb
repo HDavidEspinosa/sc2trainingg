{
 "cells": [
  {
   "cell_type": "code",
   "execution_count": null,
   "metadata": {},
   "outputs": [],
   "source": [
    "#default_exp load_config"
   ]
  },
  {
   "cell_type": "code",
   "execution_count": null,
   "metadata": {},
   "outputs": [],
   "source": [
    "#hide\n",
    "from nbdev.showdoc import *\n",
    "from fastcore.test import *"
   ]
  },
  {
   "cell_type": "code",
   "execution_count": null,
   "metadata": {},
   "outputs": [],
   "source": [
    "#export\n",
    "import os\n",
    "import json\n",
    "import jsonschema\n",
    "import errno\n",
    "\n",
    "from typing import Dict, Any\n",
    "from dataclasses import dataclass\n",
    "from jsonschema import validate\n",
    "from pathlib import Path"
   ]
  },
  {
   "cell_type": "markdown",
   "metadata": {},
   "source": [
    "# The `load_config` module\n",
    "\n",
    "> This module contains the tools necessary to load a `json` configuration file (`config.json`). "
   ]
  },
  {
   "cell_type": "markdown",
   "metadata": {},
   "source": [
    "This module provides the tools to open and load sc2trainingg configuration file. The `config.json` file contains the information other modules such as `ingest` use to locate the replays that training grounds will process, the binary for StarCraft II, and the configuration data for the MongoDB database.\n",
    "\n",
    "Additionally, the module uses `jsonchema` to validate that the `config.json` file contains the proper fields and that the values of those fields are of the appropriate types. \n",
    "\n",
    "The information from the file is stored in a `Config_settings` object."
   ]
  },
  {
   "cell_type": "markdown",
   "metadata": {},
   "source": [
    "## The `Config_settings` class"
   ]
  },
  {
   "cell_type": "code",
   "execution_count": null,
   "metadata": {},
   "outputs": [],
   "source": [
    "#export\n",
    "# Configuration of a frozen dataclass for the json file content \n",
    "# to assure inmutability. \n",
    "@dataclass(frozen=True)\n",
    "class Config_settings:\n",
    "    \"\"\"\n",
    "    \n",
    "    ---\n",
    "    \n",
    "    Frozen `dataclass` that describes the configuration attributes of SC2 Training Grounds\n",
    "    \n",
    "    ---\n",
    "\n",
    "    **Attributes:**\n",
    "        *`port_adress (str)`:* address for the server running the MongoDB service\n",
    "        *`port_number (int)`:* port number that indicates the proper service for the MongoDB service in the server.\n",
    "        *`db_name (str)`:* name of the database that needs to be accessed\n",
    "        *`replay_path (str)`:* path to the folder containing the SC2 replays to process. Use absolute path to prevent problems.\n",
    "    \"\"\"\n",
    "    port_address: str\n",
    "    port_number: int\n",
    "    db_name: str\n",
    "    replay_path: str"
   ]
  },
  {
   "cell_type": "code",
   "execution_count": null,
   "metadata": {},
   "outputs": [
    {
     "data": {
      "text/markdown": [
       "<h3 id=\"Config_settings\" class=\"doc_header\"><code>class</code> <code>Config_settings</code><a href=\"\" class=\"source_link\" style=\"float:right\">[source]</a></h3>\n",
       "\n",
       "> <code>Config_settings</code>(**`port_address`**:`str`, **`port_number`**:`int`, **`db_name`**:`str`, **`replay_path`**:`str`)\n",
       "\n",
       "Frozen `dataclass` that describes the configuration attributes of SC2 Training Grounds\n",
       "\n",
       "---\n",
       "\n",
       "**Attributes:**\n",
       "    *`port_adress (str)`:* address for the server running the MongoDB service\n",
       "    *`port_number (int)`:* port number that indicates the proper service for the MongoDB service in the server.\n",
       "    *`db_name (str)`:* name of the database that needs to be accessed\n",
       "    *`replay_path (str)`:* path to the folder containing the SC2 replays to process. Use absolute path to prevent problems."
      ],
      "text/plain": [
       "<IPython.core.display.Markdown object>"
      ]
     },
     "metadata": {},
     "output_type": "display_data"
    }
   ],
   "source": [
    "show_doc(Config_settings, title_level=3)"
   ]
  },
  {
   "cell_type": "code",
   "execution_count": null,
   "metadata": {},
   "outputs": [],
   "source": [
    "#exporti\n",
    "Config_schema = {\n",
    "    \"type\": \"object\",\n",
    "    \"properties\":{\n",
    "        \"DB_NAME\": {\"type\":\"string\"},\n",
    "        \"STEP_MULT\": {\"type\":\"number\"},\n",
    "        \"MATCH_UPS\":  {\"type\":\"array\"},\n",
    "        \"SC2_PATH\":  {\"type\":\"string\"},\n",
    "        \"PORT_ADDRESS\":  {\"type\":\"string\"},\n",
    "        \"PORT_NUMBER\": {\"type\":\"number\"},\n",
    "        \"REPLAY_PATH\": {\"type\":\"string\"}\n",
    "    }\n",
    "}\n",
    "\n",
    "def validate_config_file(file: Path, schema: Dict[str, Any]) -> bool:\n",
    "    \"\"\"Review if a given `file` Path fits a predefined `jsonschema`\n",
    "\n",
    "    Args: \n",
    "        file (Path): the path to the file that while ve validated.\n",
    "        schema (Dict[str, Any]): the schema that the information needs to comply with.  \n",
    "      \n",
    "    Returns:  \n",
    "        bool: `True` if the file complies with the schema, `False` otherwise.\n",
    "\n",
    "    Raises:  \n",
    "        jsonschema.exceptions.SchemaError: The configuration schema is invalid.\n",
    "    \"\"\"\n",
    "\n",
    "    try:\n",
    "        validate(file, schema)\n",
    "    except jsonschema.exceptions.ValidationError as err:\n",
    "        return False\n",
    "    except jsonschema.exceptions.SchemaError as err:\n",
    "        print(err)\n",
    "        print(\"The Config_schema is invalid\")\n",
    "        raise err\n",
    "    \n",
    "    return True "
   ]
  },
  {
   "cell_type": "code",
   "execution_count": null,
   "metadata": {},
   "outputs": [],
   "source": [
    "#exporti\n",
    "def open_config_file(config_path: Path) -> Dict[str, Any]:\n",
    "    \"\"\"Opens a json if it exists and matches a specific configuration schema.\n",
    "\n",
    "    Args:  \n",
    "        config_path (Path): path to the session's `config.json`  \n",
    "\n",
    "    Returns:  \n",
    "        Dict[str, Any]: dictionary extracted from `config.json`.  \n",
    "\n",
    "    Raises:  \n",
    "        FileNotFoundError: in case `config_path` doesn't point to an existing file.\n",
    "    \"\"\"\n",
    "    if (\n",
    "        config_path.exists() and \n",
    "        validate_config_file(json.load(config_path.open()), Config_schema)\n",
    "    ):\n",
    "        with config_path.open('r') as cf:\n",
    "            return json.load(cf)\n",
    "    else:\n",
    "        raise FileNotFoundError(errno.ENOENT, os.strerror(errno.ENOENT), config_path)"
   ]
  },
  {
   "cell_type": "markdown",
   "metadata": {},
   "source": [
    "## The Module's Exported Functions\n",
    "In this module, the only function designed to be exported for use elsewhere is `load_configurations`. This function is used in the `ingest` module to open and load the project's `config.json` file.\n"
   ]
  },
  {
   "cell_type": "code",
   "execution_count": null,
   "metadata": {},
   "outputs": [],
   "source": [
    "#export\n",
    "def load_configurations(config_path: Path) -> Config_settings:\n",
    "    \"\"\"\n",
    "    ---\n",
    "    \n",
    "    Look for the project's `config.json` file in `config_path`, verifies that it contains the proper data and then returns a `Config_settings` object that contains the data.\n",
    "\n",
    "    ----    \n",
    "\n",
    "    **Args:**  \n",
    "        *`config_path (Path)`:* path to the session's `config.json`  \n",
    "\n",
    "    **Returns:**  \n",
    "        *`Config_settings`:* frozen `dataclass` containing the data extracted from `config.json`.  \n",
    "    \"\"\"\n",
    "    config_dict = open_config_file(config_path)\n",
    "    return Config_settings(\n",
    "        config_dict['PORT_ADDRESS'],\n",
    "        config_dict['PORT_NUMBER'],\n",
    "        config_dict['DB_NAME'],\n",
    "        config_dict['REPLAY_PATH']\n",
    "    )"
   ]
  },
  {
   "cell_type": "code",
   "execution_count": null,
   "metadata": {},
   "outputs": [
    {
     "data": {
      "text/markdown": [
       "<h3 id=\"load_configurations\" class=\"doc_header\"><code>load_configurations</code><a href=\"__main__.py#L2\" class=\"source_link\" style=\"float:right\">[source]</a></h3>\n",
       "\n",
       "> <code>load_configurations</code>(**`config_path`**:`Path`)\n",
       "\n",
       "Look for the project's `config.json` file in `config_path`, verifies that it contains the proper data and then returns a [`Config_settings`](/sc2trainingg/load_config.html#Config_settings) object that contains the data.\n",
       "\n",
       "----    \n",
       "\n",
       "**Args:**  \n",
       "    *`config_path (Path)`:* path to the session's `config.json`  \n",
       "\n",
       "**Returns:**  \n",
       "    *[`Config_settings`](/sc2trainingg/load_config.html#Config_settings):* frozen `dataclass` containing the data extracted from `config.json`.  "
      ],
      "text/plain": [
       "<IPython.core.display.Markdown object>"
      ]
     },
     "metadata": {},
     "output_type": "display_data"
    }
   ],
   "source": [
    "show_doc(load_configurations, title_level=3)"
   ]
  },
  {
   "cell_type": "markdown",
   "metadata": {},
   "source": [
    "#### Example\n",
    "In the following code `load_configurations` is used to load the data from a `config.json` in the project's folder. "
   ]
  },
  {
   "cell_type": "code",
   "execution_count": null,
   "metadata": {},
   "outputs": [
    {
     "name": "stdout",
     "output_type": "stream",
     "text": [
      "Config_settings(port_address='localhost', port_number=27017, db_name='TEST_library', replay_path='C:\\\\Users\\\\david\\\\Documents\\\\phdcode\\\\sc2trainingg\\\\test')\n"
     ]
    }
   ],
   "source": [
    "print(load_configurations(Path(\"config.json\")))"
   ]
  },
  {
   "cell_type": "code",
   "execution_count": null,
   "metadata": {},
   "outputs": [
    {
     "name": "stdout",
     "output_type": "stream",
     "text": [
      "Converted 00_core.ipynb.\n",
      "Converted 01_load_config.ipynb.\n",
      "Converted 02_ingest.ipynb.\n",
      "Converted index.ipynb.\n"
     ]
    }
   ],
   "source": [
    "#hide\n",
    "from nbdev.export import notebook2script\n",
    "notebook2script()"
   ]
  },
  {
   "cell_type": "code",
   "execution_count": null,
   "metadata": {},
   "outputs": [],
   "source": []
  }
 ],
 "metadata": {
  "kernelspec": {
   "display_name": "Python 3",
   "language": "python",
   "name": "python3"
  }
 },
 "nbformat": 4,
 "nbformat_minor": 2
}
