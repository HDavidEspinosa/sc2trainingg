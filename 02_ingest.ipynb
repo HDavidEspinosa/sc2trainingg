{
 "cells": [
  {
   "cell_type": "code",
   "execution_count": null,
   "metadata": {},
   "outputs": [],
   "source": [
    "#hide\n",
    "#default_exp ingest\n",
    "from nbdev.showdoc import *\n",
    "from fastcore.test import *"
   ]
  },
  {
   "cell_type": "code",
   "execution_count": null,
   "metadata": {},
   "outputs": [],
   "source": [
    "#export\n",
    "import re\n",
    "import datetime\n",
    "\n",
    "import sc2reader\n",
    "import pymongo\n",
    "import sc2reaper.init_ingest as ings\n",
    "\n",
    "# Python std_lib dependencies \n",
    "from typing import Generator, Tuple\n",
    "from dataclasses import dataclass, asdict\n",
    "from pathlib import Path\n",
    "from datetime import datetime\n",
    "\n",
    "# Import dependencies from this package\n",
    "from sc2trainingg.load_config import *"
   ]
  },
  {
   "cell_type": "markdown",
   "metadata": {},
   "source": [
    "# The `ingest` Module\n",
    "\n",
    "> This module contains the tools needed to extract game-play data from a set of StarCraft II replays. This process entails extracting various features that describe each players' performance during a 1v1 online match and organising all the information in a set of collections that compose a MongoDB database.\n",
    "\n"
   ]
  },
  {
   "cell_type": "markdown",
   "metadata": {},
   "source": [
    "`ingest` uses three modules to carry on its principal functions. \n",
    "\n",
    "1. It uses [MongoDB](https://www.mongodb.com/) and [pymongo](https://pymongo.readthedocs.io/en/stable/) to configure a document-based database where it stores the information of the replays. \n",
    "2. It uses [sc2reaper (Gonzalez Duque & Arbelaez Echeverri, 2019)](https://github.com/miguelgondu/sc2reaper) to extract and load various default collections of information to the database (i.e. actions, players, replays, scores, and states). \n",
    "3. It uses [sc2reader (Leung, 2020)](https://pypi.org/project/sc2reader/#history) to extract information about the players' username so that the replays can be grouped by players later. In this case, `ingest` stores this extra information in an additional collection (i.e. replays_info) which extends the database where the previous collections exist. \n",
    "\n",
    "This module organises the gameplay data into the following collections: \n",
    "* actions\n",
    "* players\n",
    "* replays = summary of the replays that have been processed.\n",
    "* states\n",
    "* scores\n",
    "* replays_info = summary of the replays that have been processed that includes usernames.\n",
    "\n",
    "This database is built using two functions defined in this module; `build_replay_info` and `build_reaper_collections` (see below)."
   ]
  },
  {
   "cell_type": "markdown",
   "metadata": {},
   "source": [
    "## Requirements for Proper Functioning\n",
    "Before anything else, this module looks for the local `config.json` file and loads its information into a `Config_settings` object using the `load_configurations` function from the `load_config` module.\n",
    "\n",
    "With this information at hand, the module configures the MongoDB client it needs to store the replay data."
   ]
  },
  {
   "cell_type": "code",
   "execution_count": null,
   "metadata": {},
   "outputs": [],
   "source": [
    "#exports\n",
    "# Definition of the initial data needed to function\n",
    "CONFIG_PATH = Path(\"/Users/david/Documents/phdcode/sc2trainingg\") / \"config.json\"\n",
    "CONFIG = load_configurations(CONFIG_PATH)\n",
    "\n",
    "# Define the client and data base to work with MongoDB\n",
    "DB_Client = pymongo.MongoClient(CONFIG.port_address, CONFIG.port_number)\n",
    "DB = DB_Client[CONFIG.db_name]\n",
    "replays_info = DB['replays_info']\n",
    "\n",
    "\n",
    "# Define the dependency the default to sc2reader\n",
    "assert Path(CONFIG.replay_path).exists(), \"Invalid replay path\"\n",
    "REPLAY_GEN = sc2reader.load_replays(CONFIG.replay_path)\n"
   ]
  },
  {
   "cell_type": "markdown",
   "metadata": {},
   "source": [
    "### Information Management\n",
    "Fallowing a functional programming approach in the development of this project, two frozen dataclasses are defined to ensure inmutability during the process of the information; `Replay_data` and `Player_data`. \n"
   ]
  },
  {
   "cell_type": "code",
   "execution_count": null,
   "metadata": {},
   "outputs": [],
   "source": [
    "#export\n",
    "@dataclass(frozen=True)\n",
    "class Player_data:\n",
    "    \"\"\"\n",
    "    Immutable dataclass that contains Information that describes a \n",
    "    player's attributes in a match.\n",
    "    \n",
    "    *Attributes:*\n",
    "        - name (str): \n",
    "            The player's user name.\n",
    "        - number (int): \n",
    "            Player number in the match. In a 1v1, match there would be a Player 1 and 2.\n",
    "        - race (str): \n",
    "            The game race (Protoss, Terran, Zerg) with which the player played this match.\n",
    "        - result (str): \n",
    "            Variable descriving whether the player was the matches winner ('Win') or loser ('Loss').\n",
    "\n",
    "    \"\"\"\n",
    "    name: str\n",
    "    number: int\n",
    "    race: str\n",
    "    result: str"
   ]
  },
  {
   "cell_type": "code",
   "execution_count": null,
   "metadata": {},
   "outputs": [
    {
     "data": {
      "text/markdown": [
       "<h4 id=\"Player_data\" class=\"doc_header\"><code>class</code> <code>Player_data</code><a href=\"\" class=\"source_link\" style=\"float:right\">[source]</a></h4>\n",
       "\n",
       "> <code>Player_data</code>(**`name`**:`str`, **`number`**:`int`, **`race`**:`str`, **`result`**:`str`)\n",
       "\n",
       "Immutable dataclass that contains Information that describes a \n",
       "player's attributes in a match.\n",
       "\n",
       "*Attributes:*\n",
       "    - name (str): \n",
       "        The player's user name.\n",
       "    - number (int): \n",
       "        Player number in the match. In a 1v1, match there would be a Player 1 and 2.\n",
       "    - race (str): \n",
       "        The game race (Protoss, Terran, Zerg) with which the player played this match.\n",
       "    - result (str): \n",
       "        Variable descriving whether the player was the matches winner ('Win') or loser ('Loss')."
      ],
      "text/plain": [
       "<IPython.core.display.Markdown object>"
      ]
     },
     "metadata": {},
     "output_type": "display_data"
    }
   ],
   "source": [
    "show_doc(Player_data, title_level=4)"
   ]
  },
  {
   "cell_type": "markdown",
   "metadata": {},
   "source": [
    "\n",
    "            "
   ]
  },
  {
   "cell_type": "code",
   "execution_count": null,
   "metadata": {},
   "outputs": [],
   "source": [
    "#export\n",
    "@dataclass(frozen=True)\n",
    "class Replay_data:\n",
    "    \"\"\"\n",
    "    Immutable dataclass that contains information summarising a \n",
    "    match's main attributes.\n",
    "\n",
    "    *Attributes:*\n",
    "        - replay_name (str):\n",
    "            Absolute path of where the Replay was stored when uploaded.\n",
    "        - replay_id (str):\n",
    "            Name of the SC2Replay file.\n",
    "        - date_time (datetime):\n",
    "            Date and time when the match was played and recorded.\n",
    "        - match_type (str):\n",
    "            Descrives the team configuration of the match (eg '1v1', '2v2').\n",
    "        - game_release (str):\n",
    "            Version and patch number for the game release where the match\n",
    "            played.\n",
    "        - map_name (str):\n",
    "            Name of the match's map.\n",
    "        - category (str):\n",
    "            Descrives if the match was 'Ladder' or other type of match.\n",
    "        - winner (str):\n",
    "            User name of the match's winner\n",
    "        - players (Tuple[Player_data, ...]):\n",
    "            Summarised information of the match's players (see Player_data \n",
    "            class).\n",
    "    \"\"\"\n",
    "    replay_name: str\n",
    "    replay_id: str\n",
    "    date_time: datetime\n",
    "    match_type: str\n",
    "    game_release: str\n",
    "    map_name: str\n",
    "    category: str\n",
    "    winner: str\n",
    "    players: Tuple[Player_data, ...]"
   ]
  },
  {
   "cell_type": "code",
   "execution_count": null,
   "metadata": {},
   "outputs": [
    {
     "data": {
      "text/markdown": [
       "<h4 id=\"Replay_data\" class=\"doc_header\"><code>class</code> <code>Replay_data</code><a href=\"\" class=\"source_link\" style=\"float:right\">[source]</a></h4>\n",
       "\n",
       "> <code>Replay_data</code>(**`replay_name`**:`str`, **`replay_id`**:`str`, **`date_time`**:`datetime`, **`match_type`**:`str`, **`game_release`**:`str`, **`map_name`**:`str`, **`category`**:`str`, **`winner`**:`str`, **`players`**:`Tuple`\\[[`Player_data`](/sc2trainingg/ingest.html#Player_data), `Ellipsis`\\])\n",
       "\n",
       "Immutable dataclass that contains information summarising a \n",
       "match's main attributes.\n",
       "\n",
       "*Attributes:*\n",
       "    - replay_name (str):\n",
       "        Absolute path of where the Replay was stored when uploaded.\n",
       "    - replay_id (str):\n",
       "        Name of the SC2Replay file.\n",
       "    - date_time (datetime):\n",
       "        Date and time when the match was played and recorded.\n",
       "    - match_type (str):\n",
       "        Descrives the team configuration of the match (eg '1v1', '2v2').\n",
       "    - game_release (str):\n",
       "        Version and patch number for the game release where the match\n",
       "        played.\n",
       "    - map_name (str):\n",
       "        Name of the match's map.\n",
       "    - category (str):\n",
       "        Descrives if the match was 'Ladder' or other type of match.\n",
       "    - winner (str):\n",
       "        User name of the match's winner\n",
       "    - players (Tuple[Player_data, ...]):\n",
       "        Summarised information of the match's players (see Player_data \n",
       "        class)."
      ],
      "text/plain": [
       "<IPython.core.display.Markdown object>"
      ]
     },
     "metadata": {},
     "output_type": "display_data"
    }
   ],
   "source": [
    "show_doc(Replay_data, title_level=4)"
   ]
  },
  {
   "cell_type": "markdown",
   "metadata": {},
   "source": [
    "\n",
    "\n",
    "## Module's Functions\n",
    "\n",
    "As explained above, the module uses the functions `build_replay_info` and `build_reaper_collections` to construct a document-based database. Of these functions, the former is a custom function, inspired by `sc2reaper`'s information extraction and organisation processes, that selects rough information from the replay file using `sc2reader` and organises it inside the replay_info collection. The latter uses `sc2reaper` to create the rest of the data collections in the database."
   ]
  },
  {
   "cell_type": "markdown",
   "metadata": {},
   "source": [
    "### Auxiliary Functions\n",
    "Appart from `build_replay_info` and `build_reaper_collections`, this modules defines a number of auxiliary functions that are used within those primary functions. \n",
    "\n",
    "Here is a brief summary of those functions. "
   ]
  },
  {
   "cell_type": "code",
   "execution_count": null,
   "metadata": {},
   "outputs": [],
   "source": [
    "#export\n",
    "\"\"\"\n",
    "These auxiliar functions exists to assist the module's main functions.\n",
    "\"\"\"\n",
    "# Functions that format data according to the dataclasses\n",
    "def extend_player_info(participant: sc2reader.objects.Participant) -> Player_data:\n",
    "    '''\n",
    "    Extracts the players' data from a Participant Object, into a \n",
    "    Player_data instance.\n",
    "    \n",
    "    *Args:*\n",
    "        - participant (sc2reader.objects.Participant):\n",
    "            Participant object containing all data related to a SC2Player\n",
    "\n",
    "    *Returns:*\n",
    "        - Player_data:\n",
    "            Summary of a player's attributes on a match.\n",
    "    '''\n",
    "    return Player_data(\n",
    "        participant.name, \n",
    "        participant.pid, \n",
    "        participant.play_race,\n",
    "        participant.result\n",
    "    )"
   ]
  },
  {
   "cell_type": "code",
   "execution_count": null,
   "metadata": {},
   "outputs": [
    {
     "data": {
      "text/markdown": [
       "<h4 id=\"extend_player_info\" class=\"doc_header\"><code>extend_player_info</code><a href=\"__main__.py#L6\" class=\"source_link\" style=\"float:right\">[source]</a></h4>\n",
       "\n",
       "> <code>extend_player_info</code>(**`participant`**:`Participant`)\n",
       "\n",
       "Extracts the players' data from a Participant Object, into a \n",
       "Player_data instance.\n",
       "\n",
       "*Args:*\n",
       "    - participant (sc2reader.objects.Participant):\n",
       "        Participant object containing all data related to a SC2Player\n",
       "\n",
       "*Returns:*\n",
       "    - Player_data:\n",
       "        Summary of a player's attributes on a match."
      ],
      "text/plain": [
       "<IPython.core.display.Markdown object>"
      ]
     },
     "metadata": {},
     "output_type": "display_data"
    }
   ],
   "source": [
    "show_doc(extend_player_info, title_level=4)"
   ]
  },
  {
   "cell_type": "code",
   "execution_count": null,
   "metadata": {},
   "outputs": [],
   "source": [
    "#export\n",
    "def get_replay_info(replay: sc2reader.resources.Replay) -> Replay_data:\n",
    "    '''\n",
    "    Replay_data dataclass instance with a replay's general \n",
    "    information.\n",
    "\n",
    "    *Args:*\n",
    "        - replay (sc2reader.resources.Replay):\n",
    "            Replay object to be analysed.\n",
    "\n",
    "    *Returns:*\n",
    "        - Replay_data\n",
    "            Summary of a matches main descriptive information. \n",
    "    '''\n",
    "    file_name_regex = re.compile(r'[^\\\\]*[.]SC2Replay$')\n",
    "\n",
    "    # Collect information about the match in a document. \n",
    "    return Replay_data(\n",
    "        replay.filename,\n",
    "        file_name_regex.search(replay.filename).group(),\n",
    "        replay.start_time,\n",
    "        replay.type,\n",
    "        replay.release_string,\n",
    "        replay.map_name,\n",
    "        replay.category,\n",
    "        replay.winner.players[0].name,\n",
    "        tuple(extend_player_info(player) for player in tuple(replay.players))\n",
    "    )"
   ]
  },
  {
   "cell_type": "code",
   "execution_count": null,
   "metadata": {},
   "outputs": [
    {
     "data": {
      "text/markdown": [
       "<h4 id=\"get_replay_info\" class=\"doc_header\"><code>get_replay_info</code><a href=\"__main__.py#L2\" class=\"source_link\" style=\"float:right\">[source]</a></h4>\n",
       "\n",
       "> <code>get_replay_info</code>(**`replay`**:`Replay`)\n",
       "\n",
       "Replay_data dataclass instance with a replay's general \n",
       "information.\n",
       "\n",
       "*Args:*\n",
       "    - replay (sc2reader.resources.Replay):\n",
       "        Replay object to be analysed.\n",
       "\n",
       "*Returns:*\n",
       "    - Replay_data\n",
       "        Summary of a matches main descriptive information. "
      ],
      "text/plain": [
       "<IPython.core.display.Markdown object>"
      ]
     },
     "metadata": {},
     "output_type": "display_data"
    }
   ],
   "source": [
    "show_doc(get_replay_info, title_level=4)"
   ]
  },
  {
   "cell_type": "code",
   "execution_count": null,
   "metadata": {},
   "outputs": [],
   "source": [
    "#export\n",
    "# Functions that build the Collections within the database\n",
    "def not_replay_duplicate(replay: sc2reader.resources.Replay, collection_: pymongo.collection.Collection = replays_info) -> bool:\n",
    "    '''\n",
    "    Verify that the replay does not exist in a collection.\n",
    "\n",
    "    *Args:*\n",
    "        - replay (sc2reader.resources.Replay):\n",
    "            The replay being cheked\n",
    "        - collection_ (pymongo.collection.Collection):\n",
    "            The collection where the existance check is being performed.\n",
    "\n",
    "    *Returns:*\n",
    "        - bool: \n",
    "            True if the replay is not in the collection, False if it is.\n",
    "    '''\n",
    "    if not collection_.count_documents(\n",
    "        {'replay_name': replay.filename}, \n",
    "        limit = 1\n",
    "    ):\n",
    "        print(f'New replay found: {Path(replay.filename).name} \\n adding to replay_info collection.')\n",
    "        return True\n",
    "    else:\n",
    "        print(f'{replay.filename} already exists in the replay_info collection.')\n",
    "        return False"
   ]
  },
  {
   "cell_type": "code",
   "execution_count": null,
   "metadata": {},
   "outputs": [
    {
     "data": {
      "text/markdown": [
       "<h4 id=\"not_replay_duplicate\" class=\"doc_header\"><code>not_replay_duplicate</code><a href=\"__main__.py#L3\" class=\"source_link\" style=\"float:right\">[source]</a></h4>\n",
       "\n",
       "> <code>not_replay_duplicate</code>(**`replay`**:`Replay`, **`collection_`**:`Collection`=*`Collection(Database(MongoClient(host=['localhost:27017'], document_class=dict, tz_aware=False, connect=True), 'TEST_library'), 'replays_info.func')`*)\n",
       "\n",
       "Verify that the replay does not exist in a collection.\n",
       "\n",
       "*Args:*\n",
       "    - replay (sc2reader.resources.Replay):\n",
       "        The replay being cheked\n",
       "    - collection_ (pymongo.collection.Collection):\n",
       "        The collection where the existance check is being performed.\n",
       "\n",
       "*Returns:*\n",
       "    - bool: \n",
       "        True if the replay is not in the collection, False if it is."
      ],
      "text/plain": [
       "<IPython.core.display.Markdown object>"
      ]
     },
     "metadata": {},
     "output_type": "display_data"
    }
   ],
   "source": [
    "show_doc(not_replay_duplicate, title_level=4)"
   ]
  },
  {
   "cell_type": "code",
   "execution_count": null,
   "metadata": {},
   "outputs": [],
   "source": [
    "#export\n",
    "def get_replays_data_set(rp_gen: Generator, collection_: pymongo.collection.Collection) -> Generator:\n",
    "    '''\n",
    "    Build a generator that can yield a group of Replay_data \n",
    "    instances that represent a the descriptive information of a set\n",
    "    of replays that are found by an sc2reader replay generator\n",
    "    and that have not been already added to a specific collection.\n",
    "\n",
    "    *Args:*\n",
    "        - rp_gen (Generator): \n",
    "            a sc2reader.resources.Replay generator that yields\n",
    "            the replays found in the CONFIG.replay_path.\n",
    "        - collection_ (pymongo.collection.Collection): \n",
    "            the database collection that could contain the replays\n",
    "\n",
    "    Returns:\n",
    "        - Generator: \n",
    "            Yields Replay_data instances.\n",
    "    '''\n",
    "    return (get_replay_info(replay) for replay in rp_gen if not_replay_duplicate(replay, collection_))"
   ]
  },
  {
   "cell_type": "code",
   "execution_count": null,
   "metadata": {},
   "outputs": [
    {
     "data": {
      "text/markdown": [
       "<h4 id=\"get_replays_data_set\" class=\"doc_header\"><code>get_replays_data_set</code><a href=\"__main__.py#L2\" class=\"source_link\" style=\"float:right\">[source]</a></h4>\n",
       "\n",
       "> <code>get_replays_data_set</code>(**`rp_gen`**:`Generator`, **`collection_`**:`Collection`)\n",
       "\n",
       "Build a generator that can yield a group of Replay_data \n",
       "instances that represent a the descriptive information of a set\n",
       "of replays that are found by an sc2reader replay generator\n",
       "and that have not been already added to a specific collection.\n",
       "\n",
       "*Args:*\n",
       "    - rp_gen (Generator): \n",
       "        a sc2reader.resources.Replay generator that yields\n",
       "        the replays found in the CONFIG.replay_path.\n",
       "    - collection_ (pymongo.collection.Collection): \n",
       "        the database collection that could contain the replays\n",
       "\n",
       "Returns:\n",
       "    - Generator: \n",
       "        Yields Replay_data instances."
      ],
      "text/plain": [
       "<IPython.core.display.Markdown object>"
      ]
     },
     "metadata": {},
     "output_type": "display_data"
    }
   ],
   "source": [
    "show_doc(get_replays_data_set, title_level=4)"
   ]
  },
  {
   "cell_type": "markdown",
   "metadata": {},
   "source": [
    "### Main Functions `build_replay_info` and `build_reaper_collections`"
   ]
  },
  {
   "cell_type": "code",
   "execution_count": null,
   "metadata": {},
   "outputs": [],
   "source": [
    "#export\n",
    "def build_replay_info(\n",
    "    rp_gen: Generator = REPLAY_GEN,\n",
    "    db_collection:pymongo.collection.Collection = replays_info\n",
    "    ) -> bool:\n",
    "    '''\n",
    "    Triggers the search for new replays at CONFIG.replay_path. Adds the \n",
    "    information description of the replays to the a data collection within \n",
    "    a MongoDB data base, if they are not in the database already.\n",
    "\n",
    "    *Args:*\n",
    "        - rp_gen (Generator = REPLAY_GEN):\n",
    "            sc2reader.resources.Replay generator that yields the replays found \n",
    "            in the CONFIG.replay_path. \n",
    "        - db_collection (pymongo.collection.Collection = replays_info): \n",
    "            the database where the function adds the new documents.\n",
    "            \n",
    "    *Returns:*\n",
    "        - bool:\n",
    "            True if new replays were found and added to the replay_info collection, False otherwise.\n",
    "    '''\n",
    "    replays_data_set = [asdict(replay_data) for replay_data in get_replays_data_set(rp_gen, db_collection) if replay_data != None]\n",
    "    if replays_data_set:\n",
    "        db_collection.insert_many(replays_data_set)\n",
    "        return True\n",
    "    else:\n",
    "        print(f'No new replays at {CONFIG.replay_path}') \n",
    "        return False\n"
   ]
  },
  {
   "cell_type": "code",
   "execution_count": null,
   "metadata": {},
   "outputs": [
    {
     "data": {
      "text/markdown": [
       "<h4 id=\"build_replay_info\" class=\"doc_header\"><code>build_replay_info</code><a href=\"__main__.py#L2\" class=\"source_link\" style=\"float:right\">[source]</a></h4>\n",
       "\n",
       "> <code>build_replay_info</code>(**`rp_gen`**:`Generator`=*`load_all`*, **`db_collection`**:`Collection`=*`Collection(Database(MongoClient(host=['localhost:27017'], document_class=dict, tz_aware=False, connect=True), 'TEST_library'), 'replays_info.func')`*)\n",
       "\n",
       "Triggers the search for new replays at CONFIG.replay_path. Adds the \n",
       "information description of the replays to the a data collection within \n",
       "a MongoDB data base, if they are not in the database already.\n",
       "\n",
       "*Args:*\n",
       "    - rp_gen (Generator = REPLAY_GEN):\n",
       "        sc2reader.resources.Replay generator that yields the replays found \n",
       "        in the CONFIG.replay_path. \n",
       "    - db_collection (pymongo.collection.Collection = replays_info): \n",
       "        the database where the function adds the new documents.\n",
       "        \n",
       "*Returns:*\n",
       "    - bool:\n",
       "        True if new replays were found and added to the replay_info collection, False otherwise."
      ],
      "text/plain": [
       "<IPython.core.display.Markdown object>"
      ]
     },
     "metadata": {},
     "output_type": "display_data"
    }
   ],
   "source": [
    "show_doc(build_replay_info, title_level=4)"
   ]
  },
  {
   "cell_type": "code",
   "execution_count": null,
   "metadata": {},
   "outputs": [],
   "source": [
    "#export\n",
    "def build_reaper_collections() -> bool:\n",
    "    \"\"\"\n",
    "    Calls the ingest function on the sc2reaper package. Make sure\n",
    "    you install the package from https://github.com/miguelgondu/sc2reaper\n",
    "    in your environment before running.\n",
    "\n",
    "    *Returns:*\n",
    "        - bool:\n",
    "            True if new replays were found and added to the multiple collections defined by sc2reaper, False otherwise.\n",
    "\n",
    "    *Raises:*\n",
    "        - ImportError:\n",
    "            If sc2reaper is not installed in the environment.\n",
    "    \"\"\"\n",
    "    try:\n",
    "        ings.ingest(CONFIG.replay_path, 4)\n",
    "        return True\n",
    "    except ImportError as ime:\n",
    "        print(\"This program needs sc2reaper to be installed before running.\")\n",
    "        print(\"Check install instructions at https://github.com/miguelgondu/sc2reaper\")\n",
    "        raise ime\n",
    "    except ValueError as vale:\n",
    "        # If ing.ingest raises a ValueError asume reaper did not find new replays.\n",
    "        print(\"No new .SC2Replays found by sc2reaper\")\n",
    "        return False"
   ]
  },
  {
   "cell_type": "code",
   "execution_count": null,
   "metadata": {},
   "outputs": [
    {
     "data": {
      "text/markdown": [
       "<h4 id=\"build_reaper_collections\" class=\"doc_header\"><code>build_reaper_collections</code><a href=\"__main__.py#L2\" class=\"source_link\" style=\"float:right\">[source]</a></h4>\n",
       "\n",
       "> <code>build_reaper_collections</code>()\n",
       "\n",
       "Calls the ingest function on the sc2reaper package. Make sure\n",
       "you install the package from https://github.com/miguelgondu/sc2reaper\n",
       "in your environment before running.\n",
       "\n",
       "*Returns:*\n",
       "    - bool:\n",
       "        True if new replays were found and added to the multiple collections defined by sc2reaper, False otherwise.\n",
       "\n",
       "*Raises:*\n",
       "    - ImportError:\n",
       "        If sc2reaper is not installed in the environment."
      ],
      "text/plain": [
       "<IPython.core.display.Markdown object>"
      ]
     },
     "metadata": {},
     "output_type": "display_data"
    }
   ],
   "source": [
    "show_doc(build_reaper_collections, title_level=4)"
   ]
  },
  {
   "cell_type": "markdown",
   "metadata": {},
   "source": [
    "## Execution Example\n"
   ]
  },
  {
   "cell_type": "code",
   "execution_count": null,
   "metadata": {},
   "outputs": [
    {
     "name": "stdout",
     "output_type": "stream",
     "text": [
      "New replay found: Jagannatha LE.SC2Replay \n",
      " adding to replay_info collection.\n"
     ]
    }
   ],
   "source": [
    "test_eq(build_replay_info(), True)"
   ]
  },
  {
   "cell_type": "code",
   "execution_count": null,
   "metadata": {},
   "outputs": [],
   "source": [
    "#hide\n",
    "import sys\n",
    "sys.argv = sys.argv[:1]"
   ]
  },
  {
   "cell_type": "code",
   "execution_count": null,
   "metadata": {},
   "outputs": [
    {
     "name": "stdout",
     "output_type": "stream",
     "text": [
      "Found 0 replays in the database already.\n",
      "Processing replay Jagannatha LE.SC2Replay\n",
      "last frame recorded: 13224\n",
      "last frame recorded: 13224\n",
      "Successfully filled all collections of replay Jagannatha LE.SC2Replay\n"
     ]
    }
   ],
   "source": [
    "test_eq(build_reaper_collections(), True)"
   ]
  },
  {
   "cell_type": "code",
   "execution_count": null,
   "metadata": {},
   "outputs": [
    {
     "name": "stdout",
     "output_type": "stream",
     "text": [
      "Converted 00_core.ipynb.\n",
      "Converted 01_load_config.ipynb.\n",
      "Converted 02_ingest.ipynb.\n",
      "Converted index.ipynb.\n"
     ]
    }
   ],
   "source": [
    "#hide\n",
    "from nbdev.export import notebook2script\n",
    "notebook2script()"
   ]
  },
  {
   "cell_type": "code",
   "execution_count": null,
   "metadata": {},
   "outputs": [],
   "source": []
  }
 ],
 "metadata": {
  "kernelspec": {
   "display_name": "Python 3",
   "language": "python",
   "name": "python3"
  }
 },
 "nbformat": 4,
 "nbformat_minor": 2
}
