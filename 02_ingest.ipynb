{
 "cells": [
  {
   "cell_type": "code",
   "execution_count": null,
   "metadata": {},
   "outputs": [
    {
     "name": "stdout",
     "output_type": "stream",
     "text": [
      "Loading according to local config.json\n"
     ]
    },
    {
     "ename": "ModuleNotFoundError",
     "evalue": "No module named 'sc2training'",
     "output_type": "error",
     "traceback": [
      "\u001b[1;31m---------------------------------------------------------------------------\u001b[0m",
      "\u001b[1;31mModuleNotFoundError\u001b[0m                       Traceback (most recent call last)",
      "\u001b[1;32m<ipython-input-1-48b32b30ec2c>\u001b[0m in \u001b[0;36m<module>\u001b[1;34m\u001b[0m\n\u001b[0;32m      9\u001b[0m \u001b[1;33m\u001b[0m\u001b[0m\n\u001b[0;32m     10\u001b[0m \u001b[1;31m# Import dependencies from this package\u001b[0m\u001b[1;33m\u001b[0m\u001b[1;33m\u001b[0m\u001b[1;33m\u001b[0m\u001b[0m\n\u001b[1;32m---> 11\u001b[1;33m \u001b[1;32mfrom\u001b[0m \u001b[0msc2training\u001b[0m\u001b[1;33m.\u001b[0m\u001b[0mload_config\u001b[0m \u001b[1;32mimport\u001b[0m \u001b[0mload_configurations\u001b[0m\u001b[1;33m\u001b[0m\u001b[1;33m\u001b[0m\u001b[0m\n\u001b[0m",
      "\u001b[1;31mModuleNotFoundError\u001b[0m: No module named 'sc2training'"
     ]
    }
   ],
   "source": [
    "#hide\n",
    "#default_exp ingest\n",
    "import re\n",
    "import datetime\n",
    "\n",
    "import sc2reader\n",
    "import pymongo\n",
    "import sc2reaper.init_ingest as ings\n",
    "\n",
    "# Import dependencies from this package\n",
    "from sc2training.load_config import load_configurations"
   ]
  },
  {
   "cell_type": "markdown",
   "metadata": {},
   "source": [
    "# ingest\n",
    "\n",
    "> This module contains the tools needed to process a set of StarCraft II replays. This process entails extracting various features that describe each players' performance during a 1v1 online match and organising all the information in a set of collections that compose a MongoDB database."
   ]
  }
 ],
 "metadata": {
  "kernelspec": {
   "display_name": "Python 3.9.4 64-bit ('sctraining_env': conda)",
   "name": "python394jvsc74a57bd0a3b0098715de2fdc5c992906ea13628bfdb0736e4551c04209ccb62635ab8ee3"
  }
 },
 "nbformat": 4,
 "nbformat_minor": 2
}
